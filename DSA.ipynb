{
 "cells": [
  {
   "cell_type": "code",
   "execution_count": 1,
   "id": "fbb16e46-1a40-4730-bf93-67b4edba8515",
   "metadata": {},
   "outputs": [],
   "source": [
    "class ListNode:\n",
    "    def __init__(self, value=0, next=None):\n",
    "        self.value = value\n",
    "        self.next = next\n",
    "\n",
    "def reverse_linked_list(head):\n",
    "    prev = None\n",
    "    current = head\n",
    "    while current:\n",
    "        next_node = current.next\n",
    "        current.next = prev\n",
    "        prev = current\n",
    "        current = next_node\n",
    "    return prev  # New head of the reversed list"
   ]
  },
  {
   "cell_type": "code",
   "execution_count": 2,
   "id": "4f01351a-8e36-44cb-b0cb-75a9e2319668",
   "metadata": {},
   "outputs": [],
   "source": [
    "def merge_two_sorted_lists(l1, l2):\n",
    "    dummy = ListNode(0)\n",
    "    tail = dummy\n",
    "    while l1 and l2:\n",
    "        if l1.value < l2.value:\n",
    "            tail.next = l1\n",
    "            l1 = l1.next\n",
    "        else:\n",
    "            tail.next = l2\n",
    "            l2 = l2.next\n",
    "        tail = tail.next\n",
    "    tail.next = l1 or l2  # Append the remaining elements\n",
    "    return dummy.next\n"
   ]
  },
  {
   "cell_type": "code",
   "execution_count": 3,
   "id": "8ffe992c-241b-4ea9-bfaa-a8c5f8348ce1",
   "metadata": {},
   "outputs": [],
   "source": [
    "def remove_nth_from_end(head, n):\n",
    "    dummy = ListNode(0, head)\n",
    "    first = second = dummy\n",
    "    for _ in range(n + 1):\n",
    "        first = first.next\n",
    "    while first:\n",
    "        first = first.next\n",
    "        second = second.next\n",
    "    second.next = second.next.next  # Remove the nth node\n",
    "    return dummy.next"
   ]
  },
  {
   "cell_type": "code",
   "execution_count": 4,
   "id": "54a71e66-4799-4743-99ff-b839b7a8c84c",
   "metadata": {},
   "outputs": [],
   "source": [
    "def get_intersection_node(headA, headB):\n",
    "    if not headA or not headB:\n",
    "        return None\n",
    "    a, b = headA, headB\n",
    "    while a != b:\n",
    "        a = a.next if a else headB\n",
    "        b = b.next if b else headA\n",
    "    return a  # Intersection node or None"
   ]
  },
  {
   "cell_type": "code",
   "execution_count": 5,
   "id": "96aa9d8c-2738-4b21-a355-c49f1af5f9eb",
   "metadata": {},
   "outputs": [],
   "source": [
    "def delete_duplicates(head):\n",
    "    current = head\n",
    "    while current and current.next:\n",
    "        if current.value == current.next.value:\n",
    "            current.next = current.next.next\n",
    "        else:\n",
    "            current = current.next\n",
    "    return head"
   ]
  },
  {
   "cell_type": "code",
   "execution_count": 6,
   "id": "5921034d-8531-4aeb-a70f-ad26af1c1dde",
   "metadata": {},
   "outputs": [],
   "source": [
    "def add_two_numbers(l1, l2):\n",
    "    dummy = ListNode(0)\n",
    "    current = dummy\n",
    "    carry = 0\n",
    "    while l1 or l2 or carry:\n",
    "        val1 = (l1.value if l1 else 0)\n",
    "        val2 = (l2.value if l2 else 0)\n",
    "        total = val1 + val2 + carry\n",
    "        carry = total // 10\n",
    "        current.next = ListNode(total % 10)\n",
    "        current = current.next\n",
    "        if l1: l1 = l1.next\n",
    "        if l2: l2 = l2.next\n",
    "    return dummy.next"
   ]
  },
  {
   "cell_type": "code",
   "execution_count": 7,
   "id": "926f3825-a98e-49cf-9ef0-47b5f869d7e4",
   "metadata": {},
   "outputs": [],
   "source": [
    "def swap_pairs(head):\n",
    "    dummy = ListNode(0)\n",
    "    dummy.next = head\n",
    "    current = dummy\n",
    "    while current.next and current.next.next:\n",
    "        first = current.next\n",
    "        second = first.next\n",
    "        first.next = second.next\n",
    "        current.next = second\n",
    "        current.next.next = first\n",
    "        current = current.next.next\n",
    "    return dummy.next"
   ]
  },
  {
   "cell_type": "code",
   "execution_count": 8,
   "id": "4eb312b1-cd0a-4ad1-a94e-3113accbee33",
   "metadata": {},
   "outputs": [],
   "source": [
    "def reverse_k_group(head, k):\n",
    "    dummy = ListNode(0)\n",
    "    dummy.next = head\n",
    "    group_prev = dummy\n",
    "\n",
    "    while True:\n",
    "        kth = group_prev\n",
    "        for i in range(k):\n",
    "            kth = kth.next\n",
    "            if not kth:\n",
    "                return dummy.next\n",
    "        group_next = kth.next\n",
    "        prev, curr = group_next, group_prev.next\n",
    "        for _ in range(k):\n",
    "            next_temp = curr.next\n",
    "            curr.next = prev\n",
    "            prev = curr\n",
    "            curr = next_temp\n",
    "        temp = group_prev.next\n",
    "        group_prev.next = kth\n",
    "        group_prev = temp"
   ]
  },
  {
   "cell_type": "code",
   "execution_count": 9,
   "id": "c7470b4d-9fa4-4b16-8974-18e33f85a2ac",
   "metadata": {},
   "outputs": [],
   "source": [
    "def is_palindrome(head):\n",
    "    slow = fast = head\n",
    "    stack = []\n",
    "    \n",
    "    while fast and fast.next:\n",
    "        stack.append(slow.value)\n",
    "        slow = slow.next\n",
    "        fast = fast.next.next\n",
    "    \n",
    "    if fast:  # Odd number of elements, skip the middle element\n",
    "        slow = slow.next\n",
    "    \n",
    "    while slow:\n",
    "        if stack.pop() != slow.value:\n",
    "            return False\n",
    "        slow = slow.next\n",
    "    return True"
   ]
  },
  {
   "cell_type": "code",
   "execution_count": 10,
   "id": "7dc9730e-e51a-4be3-8568-5c5ea027f6a8",
   "metadata": {},
   "outputs": [],
   "source": [
    "def rotate_right(head, k):\n",
    "    if not head or not head.next:\n",
    "        return head\n",
    "    length = 1\n",
    "    tail = head\n",
    "    while tail.next:\n",
    "        tail = tail.next\n",
    "        length += 1\n",
    "    tail.next = head  # Make it circular\n",
    "    k = k % length\n",
    "    steps_to_new_head = length - k\n",
    "    new_tail = head\n",
    "    for _ in range(steps_to_new_head - 1):\n",
    "        new_tail = new_tail.next\n",
    "    new_head = new_tail.next\n",
    "    new_tail.next = None  # Break the circle\n",
    "    return new_head"
   ]
  },
  {
   "cell_type": "code",
   "execution_count": 11,
   "id": "94e7e40a-8287-4aa3-aef7-bf5c0f0cabaf",
   "metadata": {},
   "outputs": [],
   "source": [
    "class Node:\n",
    "    def __init__(self, value=0, next=None, prev=None, child=None):\n",
    "        self.value = value\n",
    "        self.next = next\n",
    "        self.prev = prev\n",
    "        self.child = child\n",
    "\n",
    "def flatten(head):\n",
    "    if not head:\n",
    "        return head\n",
    "    pseudo_head = Node(0, head)\n",
    "    stack = [head]\n",
    "    prev = pseudo_head\n",
    "    \n",
    "    while stack:\n",
    "        curr = stack.pop()\n",
    "        prev.next = curr\n",
    "        curr.prev = prev\n",
    "        \n",
    "        if curr.next:\n",
    "            stack.append(curr.next)\n",
    "        if curr.child:\n",
    "            stack.append(curr.child)\n",
    "            curr.child = None  # Remove the child pointer\n",
    "        prev = curr\n",
    "    \n",
    "    return pseudo_head.next"
   ]
  },
  {
   "cell_type": "code",
   "execution_count": 12,
   "id": "a685b871-b3ca-469b-bbc5-1297c1e9c3be",
   "metadata": {},
   "outputs": [],
   "source": [
    "def rearrange_even_nodes(head):\n",
    "    if not head:\n",
    "        return head\n",
    "    odd_head = odd_tail = None\n",
    "    even_head = even_tail = None\n",
    "    index = 1\n",
    "    current = head\n",
    "\n",
    "    while current:\n",
    "        if index % 2 == 1:  # Odd index\n",
    "            if not odd_head:\n",
    "                odd_head = odd_tail = current\n",
    "            else:\n",
    "                odd_tail.next = current\n",
    "                odd_tail = odd_tail.next\n",
    "        else:  # Even index\n",
    "            if not even_head:\n",
    "                even_head = even_tail = current\n",
    "            else:\n",
    "                even_tail.next = current\n",
    "                even_tail = even_tail.next\n",
    "        current = current.next\n",
    "        index += 1\n",
    "\n",
    "    if odd_tail:\n",
    "        odd_tail.next = even_head\n",
    "    if even_tail:\n",
    "        even_tail.next = None\n",
    "\n",
    "    return odd_head"
   ]
  },
  {
   "cell_type": "code",
   "execution_count": 13,
   "id": "e6f17fa1-9747-4bc3-a914-a853d5fb62b7",
   "metadata": {},
   "outputs": [],
   "source": [
    "def add_one(head):\n",
    "    def reverse_list(node):\n",
    "        prev = None\n",
    "        while node:\n",
    "            next_node = node.next\n",
    "            node.next = prev\n",
    "            prev = node\n",
    "            node = next_node\n",
    "        return prev\n",
    "\n",
    "    head = reverse_list(head)\n",
    "    current = head\n",
    "    carry = 1\n",
    "\n",
    "    while current and carry:\n",
    "        current.value += carry\n",
    "        if current.value == 10:\n",
    "            current.value = 0\n",
    "            carry = 1\n",
    "        else:\n",
    "            carry = 0\n",
    "        if current.next is None and carry:\n",
    "            current.next = ListNode(1)\n",
    "            break\n",
    "        current = current.next\n",
    "\n",
    "    return reverse_list(head)"
   ]
  },
  {
   "cell_type": "code",
   "execution_count": 14,
   "id": "650cfe8b-4d1d-40ae-88f1-a054f41cf154",
   "metadata": {},
   "outputs": [],
   "source": [
    "def search_insert(nums, target):\n",
    "    low, high = 0, len(nums) - 1\n",
    "    while low <= high:\n",
    "        mid = (low + high) // 2\n",
    "        if nums[mid] < target:\n",
    "            low = mid + 1\n",
    "        elif nums[mid] > target:\n",
    "            high = mid - 1\n",
    "        else:\n",
    "            return mid\n",
    "    return low  # Position to insert"
   ]
  },
  {
   "cell_type": "code",
   "execution_count": 15,
   "id": "a83aa85c-6f24-4930-92e4-b3476956f4aa",
   "metadata": {},
   "outputs": [],
   "source": [
    "def find_min(nums):\n",
    "    low, high = 0, len(nums) - 1\n",
    "    while low < high:\n",
    "        mid = (low + high) // 2\n",
    "        if nums[mid] > nums[high]:\n",
    "            low = mid + 1\n",
    "        else:\n",
    "            high = mid\n",
    "    return nums[low]"
   ]
  },
  {
   "cell_type": "code",
   "execution_count": 16,
   "id": "607c4bb3-c9fb-4eb9-8922-ad5c259c41bd",
   "metadata": {},
   "outputs": [],
   "source": [
    "def search(nums, target):\n",
    "    low, high = 0, len(nums) - 1\n",
    "    while low <= high:\n",
    "        mid = (low + high) // 2\n",
    "        if nums[mid] == target:\n",
    "            return mid\n",
    "        if nums[low] <= nums[mid]:  # Left side is sorted\n",
    "            if nums[low] <= target < nums[mid]:\n",
    "                high = mid - 1\n",
    "            else:\n",
    "                low = mid + 1\n",
    "        else:  # Right side is sorted\n",
    "            if nums[mid] < target <= nums[high]:\n",
    "                low = mid + 1\n",
    "            else:\n",
    "                high = mid - 1\n",
    "    return -1"
   ]
  },
  {
   "cell_type": "code",
   "execution_count": 17,
   "id": "d9ffb9a9-970a-4e5b-a841-8ce941419e62",
   "metadata": {},
   "outputs": [],
   "source": [
    "def find_peak(nums):\n",
    "    n = len(nums)\n",
    "    if n == 1:\n",
    "        return 0\n",
    "    if nums[0] > nums[1]:\n",
    "        return 0\n",
    "    if nums[n - 1] > nums[n - 2]:\n",
    "        return n - 1\n",
    "\n",
    "    for i in range(1, n - 1):\n",
    "        if nums[i] > nums[i - 1] and nums[i] > nums[i + 1]:\n",
    "            return i\n",
    "    return -1  # No peak found"
   ]
  },
  {
   "cell_type": "code",
   "execution_count": 18,
   "id": "19a8fe33-9034-41dd-9018-f92c207a9cc5",
   "metadata": {},
   "outputs": [],
   "source": [
    "def count_negatives(grid):\n",
    "    count = 0\n",
    "    for row in grid:\n",
    "        for num in row:\n",
    "            if num < 0:\n",
    "                count += 1\n",
    "    return count"
   ]
  },
  {
   "cell_type": "code",
   "execution_count": 19,
   "id": "5359db00-9431-4b18-a212-759dc01e4e8d",
   "metadata": {},
   "outputs": [],
   "source": [
    "def search_matrix(matrix, target):\n",
    "    if not matrix or not matrix[0]:\n",
    "        return False\n",
    "    rows, cols = len(matrix), len(matrix[0])\n",
    "    left, right = 0, rows * cols - 1\n",
    "    while left <= right:\n",
    "        mid = (left + right) // 2\n",
    "        mid_value = matrix[mid // cols][mid % cols]\n",
    "        if mid_value == target:\n",
    "            return True\n",
    "        elif mid_value < target:\n",
    "            left = mid + 1\n",
    "        else:\n",
    "            right = mid - 1\n",
    "    return False"
   ]
  },
  {
   "cell_type": "code",
   "execution_count": 20,
   "id": "70f423b9-0983-4f65-bd58-c3b5b1cf50fc",
   "metadata": {},
   "outputs": [],
   "source": [
    "def find_median_sorted_arrays(nums1, nums2):\n",
    "    merged = []\n",
    "    i = j = 0\n",
    "    while i < len(nums1) and j < len(nums2):\n",
    "        if nums1[i] < nums2[j]:\n",
    "            merged.append(nums1[i])\n",
    "            i += 1\n",
    "        else:\n",
    "            merged.append(nums2[j])\n",
    "            j += 1\n",
    "    merged.extend(nums1[i:])\n",
    "    merged.extend(nums2[j:])\n",
    "    \n",
    "    n = len(merged)\n",
    "    if n % 2 == 0:\n",
    "        return (merged[n // 2 - 1] + merged[n // 2]) / 2\n",
    "    else:\n",
    "        return merged[n // 2]"
   ]
  },
  {
   "cell_type": "code",
   "execution_count": 21,
   "id": "57ac7c6d-debb-4e10-a0b4-0029bf96a4b0",
   "metadata": {},
   "outputs": [],
   "source": [
    "def next_greatest_letter(letters, target):\n",
    "    low, high = 0, len(letters) - 1\n",
    "    while low <= high:\n",
    "        mid = (low + high) // 2\n",
    "        if letters[mid] <= target:\n",
    "            low = mid + 1\n",
    "        else:\n",
    "            high = mid - 1\n",
    "    return letters[low % len(letters)]"
   ]
  },
  {
   "cell_type": "code",
   "execution_count": 22,
   "id": "7d3404c9-f75b-4462-8428-5f06e0a4ba04",
   "metadata": {},
   "outputs": [],
   "source": [
    "def sort_colors(nums):\n",
    "    low, mid, high = 0, 0, len(nums) - 1\n",
    "    while mid <= high:\n",
    "        if nums[mid] == 0:\n",
    "            nums[low], nums[mid] = nums[mid], nums[low]\n",
    "            low += 1\n",
    "            mid += 1\n",
    "        elif nums[mid] == 1:\n",
    "            mid += 1\n",
    "        else:  # nums[mid] == 2\n",
    "            nums[mid], nums[high] = nums[high], nums[mid]\n",
    "            high -= 1"
   ]
  },
  {
   "cell_type": "code",
   "execution_count": 23,
   "id": "424837cf-f445-413d-9cd1-e547296dafeb",
   "metadata": {},
   "outputs": [],
   "source": [
    "def find_kth_largest(nums, k):\n",
    "    nums.sort()  # Sort the array\n",
    "    return nums[-k]  # Return the kth largest element"
   ]
  },
  {
   "cell_type": "code",
   "execution_count": 24,
   "id": "3618aa8a-7839-4df2-85a0-d61626ef7caf",
   "metadata": {},
   "outputs": [],
   "source": [
    "def zigzag_reorder(nums):\n",
    "    for i in range(1, len(nums), 2):\n",
    "        if i < len(nums) - 1 and nums[i] >= nums[i + 1]:\n",
    "            nums[i], nums[i + 1] = nums[i + 1], nums[i]\n",
    "        if i > 0 and nums[i] <= nums[i - 1]:\n",
    "            nums[i], nums[i - 1] = nums[i - 1], nums[i]"
   ]
  },
  {
   "cell_type": "code",
   "execution_count": 25,
   "id": "a874e84f-2589-437b-90ca-fe1231c5dd13",
   "metadata": {},
   "outputs": [],
   "source": [
    "def sum_array(nums):\n",
    "    total = 0\n",
    "    for num in nums:\n",
    "        total += num\n",
    "    return total"
   ]
  },
  {
   "cell_type": "code",
   "execution_count": 26,
   "id": "07887769-3ef6-4209-adb1-b63631b1a38e",
   "metadata": {},
   "outputs": [],
   "source": [
    "def linear_search(nums, target):\n",
    "    for index, num in enumerate(nums):\n",
    "        if num == target:\n",
    "            return index\n",
    "    return -1"
   ]
  },
  {
   "cell_type": "code",
   "execution_count": 27,
   "id": "10583212-c8d1-4494-a918-6ec6a3c3a074",
   "metadata": {},
   "outputs": [],
   "source": [
    "def factorial(n):\n",
    "    if n == 0 or n == 1:\n",
    "        return 1\n",
    "    return n * factorial(n - 1)"
   ]
  },
  {
   "cell_type": "code",
   "execution_count": 28,
   "id": "4cb5a828-89f0-432d-95da-db497c9a4458",
   "metadata": {},
   "outputs": [],
   "source": [
    "def is_prime(n):\n",
    "    if n <= 1:\n",
    "        return False\n",
    "    for i in range(2, int(n**0.5) + 1):\n",
    "        if n % i == 0:\n",
    "            return False\n",
    "    return True"
   ]
  },
  {
   "cell_type": "code",
   "execution_count": 29,
   "id": "70b5d118-4e92-405b-906f-a99fe9f7eaad",
   "metadata": {},
   "outputs": [],
   "source": [
    "def fibonacci(n):\n",
    "    fib_series = []\n",
    "    a, b = 0, 1\n",
    "    while a < n:\n",
    "        fib_series.append(a)\n",
    "        a, b = b, a + b\n",
    "    return fib_series"
   ]
  },
  {
   "cell_type": "code",
   "execution_count": 30,
   "id": "0e690399-7090-4d22-b988-dc7b92b13a4b",
   "metadata": {},
   "outputs": [],
   "source": [
    "def power(base, exponent):\n",
    "    if exponent == 0:\n",
    "        return 1\n",
    "    return base * power(base, exponent - 1)"
   ]
  },
  {
   "cell_type": "code",
   "execution_count": 31,
   "id": "1f91ccb5-cf43-4e45-85b3-e78c51976c22",
   "metadata": {},
   "outputs": [],
   "source": [
    "def reverse_string(s):\n",
    "    return s[::-1]  # Using slicing to reverse the string"
   ]
  },
  {
   "cell_type": "code",
   "execution_count": null,
   "id": "1f06c088-7726-41ef-9a39-98d3b06a526e",
   "metadata": {},
   "outputs": [],
   "source": []
  }
 ],
 "metadata": {
  "kernelspec": {
   "display_name": "Python 3 (ipykernel)",
   "language": "python",
   "name": "python3"
  },
  "language_info": {
   "codemirror_mode": {
    "name": "ipython",
    "version": 3
   },
   "file_extension": ".py",
   "mimetype": "text/x-python",
   "name": "python",
   "nbconvert_exporter": "python",
   "pygments_lexer": "ipython3",
   "version": "3.10.8"
  }
 },
 "nbformat": 4,
 "nbformat_minor": 5
}
